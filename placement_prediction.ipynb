{
 "cells": [
  {
   "cell_type": "code",
   "execution_count": 13,
   "id": "f001f29b-2cdb-4b2e-8980-099877ce5dac",
   "metadata": {},
   "outputs": [],
   "source": [
    "import numpy as np\n",
    "import pandas as pd\n",
    "import matplotlib.pyplot as plt\n",
    "import seaborn as sns"
   ]
  },
  {
   "cell_type": "code",
   "execution_count": 2,
   "id": "0add169f-f54d-4741-b539-2bcfd9d7d932",
   "metadata": {},
   "outputs": [],
   "source": [
    "df = pd.read_csv(\"placement.csv\")"
   ]
  },
  {
   "cell_type": "code",
   "execution_count": 3,
   "id": "c909f836-3401-426a-b308-6bda82c2573b",
   "metadata": {},
   "outputs": [
    {
     "data": {
      "text/html": [
       "<div>\n",
       "<style scoped>\n",
       "    .dataframe tbody tr th:only-of-type {\n",
       "        vertical-align: middle;\n",
       "    }\n",
       "\n",
       "    .dataframe tbody tr th {\n",
       "        vertical-align: top;\n",
       "    }\n",
       "\n",
       "    .dataframe thead th {\n",
       "        text-align: right;\n",
       "    }\n",
       "</style>\n",
       "<table border=\"1\" class=\"dataframe\">\n",
       "  <thead>\n",
       "    <tr style=\"text-align: right;\">\n",
       "      <th></th>\n",
       "      <th>Unnamed: 0</th>\n",
       "      <th>cgpa</th>\n",
       "      <th>iq</th>\n",
       "      <th>placement</th>\n",
       "    </tr>\n",
       "  </thead>\n",
       "  <tbody>\n",
       "    <tr>\n",
       "      <th>0</th>\n",
       "      <td>0</td>\n",
       "      <td>6.8</td>\n",
       "      <td>123.0</td>\n",
       "      <td>1</td>\n",
       "    </tr>\n",
       "    <tr>\n",
       "      <th>1</th>\n",
       "      <td>1</td>\n",
       "      <td>5.9</td>\n",
       "      <td>106.0</td>\n",
       "      <td>0</td>\n",
       "    </tr>\n",
       "    <tr>\n",
       "      <th>2</th>\n",
       "      <td>2</td>\n",
       "      <td>5.3</td>\n",
       "      <td>121.0</td>\n",
       "      <td>0</td>\n",
       "    </tr>\n",
       "    <tr>\n",
       "      <th>3</th>\n",
       "      <td>3</td>\n",
       "      <td>7.4</td>\n",
       "      <td>132.0</td>\n",
       "      <td>1</td>\n",
       "    </tr>\n",
       "    <tr>\n",
       "      <th>4</th>\n",
       "      <td>4</td>\n",
       "      <td>5.8</td>\n",
       "      <td>142.0</td>\n",
       "      <td>0</td>\n",
       "    </tr>\n",
       "  </tbody>\n",
       "</table>\n",
       "</div>"
      ],
      "text/plain": [
       "   Unnamed: 0  cgpa     iq  placement\n",
       "0           0   6.8  123.0          1\n",
       "1           1   5.9  106.0          0\n",
       "2           2   5.3  121.0          0\n",
       "3           3   7.4  132.0          1\n",
       "4           4   5.8  142.0          0"
      ]
     },
     "execution_count": 3,
     "metadata": {},
     "output_type": "execute_result"
    }
   ],
   "source": [
    "df.head()"
   ]
  },
  {
   "cell_type": "code",
   "execution_count": 4,
   "id": "2151b12d-daff-4c2b-814a-645d6182cbe7",
   "metadata": {},
   "outputs": [
    {
     "name": "stdout",
     "output_type": "stream",
     "text": [
      "<class 'pandas.core.frame.DataFrame'>\n",
      "RangeIndex: 100 entries, 0 to 99\n",
      "Data columns (total 4 columns):\n",
      " #   Column      Non-Null Count  Dtype  \n",
      "---  ------      --------------  -----  \n",
      " 0   Unnamed: 0  100 non-null    int64  \n",
      " 1   cgpa        100 non-null    float64\n",
      " 2   iq          100 non-null    float64\n",
      " 3   placement   100 non-null    int64  \n",
      "dtypes: float64(2), int64(2)\n",
      "memory usage: 3.3 KB\n"
     ]
    }
   ],
   "source": [
    "df.info()"
   ]
  },
  {
   "cell_type": "code",
   "execution_count": 5,
   "id": "d65c7979-f117-4bbd-b49c-cae00ad4efa6",
   "metadata": {},
   "outputs": [
    {
     "data": {
      "text/html": [
       "<div>\n",
       "<style scoped>\n",
       "    .dataframe tbody tr th:only-of-type {\n",
       "        vertical-align: middle;\n",
       "    }\n",
       "\n",
       "    .dataframe tbody tr th {\n",
       "        vertical-align: top;\n",
       "    }\n",
       "\n",
       "    .dataframe thead th {\n",
       "        text-align: right;\n",
       "    }\n",
       "</style>\n",
       "<table border=\"1\" class=\"dataframe\">\n",
       "  <thead>\n",
       "    <tr style=\"text-align: right;\">\n",
       "      <th></th>\n",
       "      <th>count</th>\n",
       "      <th>mean</th>\n",
       "      <th>std</th>\n",
       "      <th>min</th>\n",
       "      <th>25%</th>\n",
       "      <th>50%</th>\n",
       "      <th>75%</th>\n",
       "      <th>max</th>\n",
       "    </tr>\n",
       "  </thead>\n",
       "  <tbody>\n",
       "    <tr>\n",
       "      <th>Unnamed: 0</th>\n",
       "      <td>100.0</td>\n",
       "      <td>49.500</td>\n",
       "      <td>29.011492</td>\n",
       "      <td>0.0</td>\n",
       "      <td>24.750</td>\n",
       "      <td>49.5</td>\n",
       "      <td>74.25</td>\n",
       "      <td>99.0</td>\n",
       "    </tr>\n",
       "    <tr>\n",
       "      <th>cgpa</th>\n",
       "      <td>100.0</td>\n",
       "      <td>5.991</td>\n",
       "      <td>1.143634</td>\n",
       "      <td>3.3</td>\n",
       "      <td>5.075</td>\n",
       "      <td>6.0</td>\n",
       "      <td>6.90</td>\n",
       "      <td>8.5</td>\n",
       "    </tr>\n",
       "    <tr>\n",
       "      <th>iq</th>\n",
       "      <td>100.0</td>\n",
       "      <td>123.580</td>\n",
       "      <td>39.944198</td>\n",
       "      <td>37.0</td>\n",
       "      <td>101.500</td>\n",
       "      <td>127.5</td>\n",
       "      <td>149.00</td>\n",
       "      <td>233.0</td>\n",
       "    </tr>\n",
       "    <tr>\n",
       "      <th>placement</th>\n",
       "      <td>100.0</td>\n",
       "      <td>0.500</td>\n",
       "      <td>0.502519</td>\n",
       "      <td>0.0</td>\n",
       "      <td>0.000</td>\n",
       "      <td>0.5</td>\n",
       "      <td>1.00</td>\n",
       "      <td>1.0</td>\n",
       "    </tr>\n",
       "  </tbody>\n",
       "</table>\n",
       "</div>"
      ],
      "text/plain": [
       "            count     mean        std   min      25%    50%     75%    max\n",
       "Unnamed: 0  100.0   49.500  29.011492   0.0   24.750   49.5   74.25   99.0\n",
       "cgpa        100.0    5.991   1.143634   3.3    5.075    6.0    6.90    8.5\n",
       "iq          100.0  123.580  39.944198  37.0  101.500  127.5  149.00  233.0\n",
       "placement   100.0    0.500   0.502519   0.0    0.000    0.5    1.00    1.0"
      ]
     },
     "execution_count": 5,
     "metadata": {},
     "output_type": "execute_result"
    }
   ],
   "source": [
    "df.describe().T"
   ]
  },
  {
   "cell_type": "markdown",
   "id": "d5bf051e-a878-4569-a1c5-08230ea60648",
   "metadata": {},
   "source": [
    "##### The unnamed feature is unnecessary, so we need to drop this column."
   ]
  },
  {
   "cell_type": "code",
   "execution_count": 6,
   "id": "de587480-6ccb-4328-8e23-0900e4e8d1b5",
   "metadata": {},
   "outputs": [],
   "source": [
    "df.drop(columns=[\"Unnamed: 0\"],axis=1,inplace=True)"
   ]
  },
  {
   "cell_type": "code",
   "execution_count": 7,
   "id": "953f47c6-2dca-42c7-862e-b9116316183c",
   "metadata": {},
   "outputs": [
    {
     "data": {
      "text/html": [
       "<div>\n",
       "<style scoped>\n",
       "    .dataframe tbody tr th:only-of-type {\n",
       "        vertical-align: middle;\n",
       "    }\n",
       "\n",
       "    .dataframe tbody tr th {\n",
       "        vertical-align: top;\n",
       "    }\n",
       "\n",
       "    .dataframe thead th {\n",
       "        text-align: right;\n",
       "    }\n",
       "</style>\n",
       "<table border=\"1\" class=\"dataframe\">\n",
       "  <thead>\n",
       "    <tr style=\"text-align: right;\">\n",
       "      <th></th>\n",
       "      <th>cgpa</th>\n",
       "      <th>iq</th>\n",
       "      <th>placement</th>\n",
       "    </tr>\n",
       "  </thead>\n",
       "  <tbody>\n",
       "    <tr>\n",
       "      <th>0</th>\n",
       "      <td>6.8</td>\n",
       "      <td>123.0</td>\n",
       "      <td>1</td>\n",
       "    </tr>\n",
       "    <tr>\n",
       "      <th>1</th>\n",
       "      <td>5.9</td>\n",
       "      <td>106.0</td>\n",
       "      <td>0</td>\n",
       "    </tr>\n",
       "    <tr>\n",
       "      <th>2</th>\n",
       "      <td>5.3</td>\n",
       "      <td>121.0</td>\n",
       "      <td>0</td>\n",
       "    </tr>\n",
       "    <tr>\n",
       "      <th>3</th>\n",
       "      <td>7.4</td>\n",
       "      <td>132.0</td>\n",
       "      <td>1</td>\n",
       "    </tr>\n",
       "    <tr>\n",
       "      <th>4</th>\n",
       "      <td>5.8</td>\n",
       "      <td>142.0</td>\n",
       "      <td>0</td>\n",
       "    </tr>\n",
       "  </tbody>\n",
       "</table>\n",
       "</div>"
      ],
      "text/plain": [
       "   cgpa     iq  placement\n",
       "0   6.8  123.0          1\n",
       "1   5.9  106.0          0\n",
       "2   5.3  121.0          0\n",
       "3   7.4  132.0          1\n",
       "4   5.8  142.0          0"
      ]
     },
     "execution_count": 7,
     "metadata": {},
     "output_type": "execute_result"
    }
   ],
   "source": [
    "df.head()"
   ]
  },
  {
   "cell_type": "markdown",
   "id": "cbd735ba-51ca-482e-9070-6ec092fd895b",
   "metadata": {},
   "source": [
    "### Let's conduct exploratory data analysis (EDA) on the dataset."
   ]
  },
  {
   "cell_type": "code",
   "execution_count": 26,
   "id": "ac8a8a3d-fc10-42b1-acbc-96a2aad637c0",
   "metadata": {},
   "outputs": [
    {
     "data": {
      "image/png": "[encoded data removed]",
      "text/plain": [
       "<Figure size 640x480 with 1 Axes>"
      ]
     },
     "metadata": {},
     "output_type": "display_data"
    }
   ],
   "source": [
    "plt.hist(x= \"cgpa\",bins=15,edgecolor= \"black\",data=df)\n",
    "plt.show()"
   ]
  },
  {
   "cell_type": "code",
   "execution_count": 25,
   "id": "60504085-bbd3-4ce3-9690-297807bc8e18",
   "metadata": {},
   "outputs": [
    {
     "data": {
      "image/png": "[encoded data removed]",
      "text/plain": [
       "<Figure size 640x480 with 1 Axes>"
      ]
     },
     "metadata": {},
     "output_type": "display_data"
    }
   ],
   "source": [
    "plt.hist(x= \"iq\",bins=15,edgecolor= \"black\",data=df)\n",
    "plt.show()"
   ]
  },
  {
   "cell_type": "code",
   "execution_count": 15,
   "id": "7631fedc-7c05-49b8-b8da-6e226b25bfad",
   "metadata": {},
   "outputs": [
    {
     "data": {
      "text/plain": [
       "<matplotlib.collections.PathCollection at 0x23dfa485550>"
      ]
     },
     "execution_count": 15,
     "metadata": {},
     "output_type": "execute_result"
    },
    {
     "data": {
      "image/png": "[encoded data removed]",
      "text/plain": [
       "<Figure size 640x480 with 1 Axes>"
      ]
     },
     "metadata": {},
     "output_type": "display_data"
    }
   ],
   "source": [
    "plt.scatter(x=\"cgpa\", y=\"iq\",data=df,c=\"placement\")"
   ]
  },
  {
   "cell_type": "markdown",
   "id": "7364b828-6c7c-4a06-865f-591f6c8095ef",
   "metadata": {},
   "source": [
    "#### Extract input and output feature"
   ]
  },
  {
   "cell_type": "code",
   "execution_count": 27,
   "id": "3cd91814-b846-4a1a-8b44-f698816cf5cf",
   "metadata": {},
   "outputs": [],
   "source": [
    "x = df.iloc[:,:-1]"
   ]
  },
  {
   "cell_type": "code",
   "execution_count": 30,
   "id": "ccfd9c7e-72d8-4c65-8c78-0b17f0ea3b1e",
   "metadata": {},
   "outputs": [],
   "source": [
    "y = df[\"placement\"]"
   ]
  },
  {
   "cell_type": "markdown",
   "id": "c2209e0d-9ab2-410b-b8f3-6ac39c3b90eb",
   "metadata": {},
   "source": [
    "#### Split input and output data into training and testing data"
   ]
  },
  {
   "cell_type": "code",
   "execution_count": 37,
   "id": "eb159098-7bb1-4a7c-8475-46c62a5768b6",
   "metadata": {},
   "outputs": [],
   "source": [
    "from sklearn.model_selection import train_test_split\n",
    "x_train,x_test,y_train,y_test = train_test_split(x,y,test_size=0.15)"
   ]
  },
  {
   "cell_type": "markdown",
   "id": "8fff6889-2f96-40c8-bf23-23fdfa6d3913",
   "metadata": {},
   "source": [
    "#### Scaling the value"
   ]
  },
  {
   "cell_type": "code",
   "execution_count": 43,
   "id": "530ab894-1cae-42b2-9c28-afb5ce18bfa7",
   "metadata": {},
   "outputs": [],
   "source": [
    "from sklearn.preprocessing import StandardScaler\n",
    "s_scaler = StandardScaler()"
   ]
  },
  {
   "cell_type": "code",
   "execution_count": 44,
   "id": "75a5ac39-adb3-4ba5-ac9c-abf4ba81c6e8",
   "metadata": {},
   "outputs": [],
   "source": [
    "x_train = s_scaler.fit_transform(x_train)"
   ]
  },
  {
   "cell_type": "code",
   "execution_count": 45,
   "id": "802f4358-4b99-4074-bf03-ea716fa9ba4e",
   "metadata": {},
   "outputs": [
    {
     "data": {
      "text/plain": [
       "array([[ 0.55235263,  1.58437436],\n",
       "       [-1.04821465,  0.78810764],\n",
       "       [-1.04821465,  0.89085173],\n",
       "       [ 1.08587505, -0.88148389],\n",
       "       [-0.33685141,  0.30007319],\n",
       "       [ 0.37451182, -0.77873979],\n",
       "       [-0.69253303,  0.01752693],\n",
       "       [ 0.73019344,  0.47987536],\n",
       "       [ 1.08587505, -1.80618073],\n",
       "       [ 0.19667101,  0.1973291 ],\n",
       "       [-1.93741869, -0.29070535],\n",
       "       [-1.04821465, -0.00815909],\n",
       "       [-1.49281667,  0.73673559],\n",
       "       [-0.60361263,  0.47987536],\n",
       "       [ 1.70831788, -1.06128605],\n",
       "       [-1.84849829, -1.16403014],\n",
       "       [-0.15901061, -0.36776342],\n",
       "       [ 0.19667101,  0.17164307],\n",
       "       [ 0.37451182, -2.14009904],\n",
       "       [-1.13713505,  1.09633992],\n",
       "       [-0.95929424, -1.47226243],\n",
       "       [ 0.81911384,  1.4045722 ],\n",
       "       [ 0.46343222, -0.00815909],\n",
       "       [ 0.0188302 ,  0.30007319],\n",
       "       [-1.58173707,  2.04672279],\n",
       "       [ 0.19667101, -0.44482149],\n",
       "       [ 0.0188302 , -1.009914  ],\n",
       "       [-1.84849829, -0.52187956],\n",
       "       [ 0.73019344, -0.62462365],\n",
       "       [ 0.81911384,  2.02103676],\n",
       "       [-1.22605546, -0.85579786],\n",
       "       [-0.78145344, -0.26501932],\n",
       "       [ 1.53047708, -0.16227523],\n",
       "       [-0.0700902 , -0.47050751],\n",
       "       [-1.04821465,  1.94397869],\n",
       "       [ 0.46343222,  0.45418933],\n",
       "       [ 0.81911384,  0.47987536],\n",
       "       [ 1.26371586, -1.52363447],\n",
       "       [ 0.90803425,  0.78810764],\n",
       "       [ 1.17479546,  0.30007319],\n",
       "       [-0.33685141,  1.25045606],\n",
       "       [-2.29310031,  2.89436156],\n",
       "       [-0.33685141,  0.50556138],\n",
       "       [-1.04821465,  0.35144524],\n",
       "       [ 0.28559142,  0.5312474 ],\n",
       "       [ 0.55235263,  0.86516571],\n",
       "       [-1.04821465, -1.52363447],\n",
       "       [-0.60361263,  0.37713126],\n",
       "       [-0.78145344,  0.30007319],\n",
       "       [ 2.15291991, -0.00815909],\n",
       "       [ 1.79723829,  1.17339799],\n",
       "       [-0.95929424, -0.05953114],\n",
       "       [-0.33685141,  0.58261945],\n",
       "       [ 0.0188302 , -0.44482149],\n",
       "       [-0.87037384,  0.1973291 ],\n",
       "       [ 0.28559142, -0.11090318],\n",
       "       [-0.0700902 ,  0.73673559],\n",
       "       [ 1.26371586,  0.24870114],\n",
       "       [-0.60361263, -0.34207739],\n",
       "       [-0.0700902 , -1.39520436],\n",
       "       [ 0.73019344,  0.45418933],\n",
       "       [ 0.64127303,  0.5312474 ],\n",
       "       [-1.13713505, -0.21364728],\n",
       "       [-0.78145344, -0.77873979],\n",
       "       [-0.24793101,  1.17339799],\n",
       "       [-0.0700902 , -1.93461085],\n",
       "       [ 1.9750791 ,  1.22477004],\n",
       "       [-1.22605546,  0.01752693],\n",
       "       [-0.60361263, -0.16227523],\n",
       "       [ 0.64127303, -0.21364728],\n",
       "       [ 1.08587505, -0.11090318],\n",
       "       [ 0.64127303, -0.77873979],\n",
       "       [ 1.26371586,  0.9679098 ],\n",
       "       [-0.24793101,  0.55693343],\n",
       "       [ 0.37451182,  1.01928185],\n",
       "       [ 0.90803425, -1.85755278],\n",
       "       [ 0.81911384, -1.4465764 ],\n",
       "       [-0.87037384, -1.39520436],\n",
       "       [ 1.79723829,  0.73673559],\n",
       "       [-1.49281667, -2.01166892],\n",
       "       [ 0.81911384, -0.21364728],\n",
       "       [-0.69253303, -0.16227523],\n",
       "       [ 1.35263627, -0.80442582],\n",
       "       [ 0.0188302 , -1.42089038],\n",
       "       [ 0.64127303,  0.06889898]])"
      ]
     },
     "execution_count": 45,
     "metadata": {},
     "output_type": "execute_result"
    }
   ],
   "source": [
    "x_train"
   ]
  },
  {
   "cell_type": "code",
   "execution_count": 47,
   "id": "b0afe7de-23f0-42c6-963a-7dff56df00ed",
   "metadata": {},
   "outputs": [],
   "source": [
    "x_test = s_scaler.fit_transform(x_test)"
   ]
  },
  {
   "cell_type": "markdown",
   "id": "95525e07-869e-4992-8494-ad433db7d415",
   "metadata": {},
   "source": [
    "### Model Creation"
   ]
  },
  {
   "cell_type": "code",
   "execution_count": 50,
   "id": "cb7c4008-c025-43f2-befa-21dbea0ee462",
   "metadata": {},
   "outputs": [],
   "source": [
    "from sklearn.linear_model import LogisticRegression\n",
    "lr_model = LogisticRegression()"
   ]
  },
  {
   "cell_type": "code",
   "execution_count": 51,
   "id": "9eece251-d9c7-4238-b615-dc7be07f550c",
   "metadata": {},
   "outputs": [
    {
     "data": {
      "text/html": [
       "<style>#sk-container-id-1 {color: black;background-color: white;}#sk-container-id-1 pre{padding: 0;}#sk-container-id-1 div.sk-toggleable {background-color: white;}#sk-container-id-1 label.sk-toggleable__label {cursor: pointer;display: block;width: 100%;margin-bottom: 0;padding: 0.3em;box-sizing: border-box;text-align: center;}#sk-container-id-1 label.sk-toggleable__label-arrow:before {content: \"▸\";float: left;margin-right: 0.25em;color: #696969;}#sk-container-id-1 label.sk-toggleable__label-arrow:hover:before {color: black;}#sk-container-id-1 div.sk-estimator:hover label.sk-toggleable__label-arrow:before {color: black;}#sk-container-id-1 div.sk-toggleable__content {max-height: 0;max-width: 0;overflow: hidden;text-align: left;background-color: #f0f8ff;}#sk-container-id-1 div.sk-toggleable__content pre {margin: 0.2em;color: black;border-radius: 0.25em;background-color: #f0f8ff;}#sk-container-id-1 input.sk-toggleable__control:checked~div.sk-toggleable__content {max-height: 200px;max-width: 100%;overflow: auto;}#sk-container-id-1 input.sk-toggleable__control:checked~label.sk-toggleable__label-arrow:before {content: \"▾\";}#sk-container-id-1 div.sk-estimator input.sk-toggleable__control:checked~label.sk-toggleable__label {background-color: #d4ebff;}#sk-container-id-1 div.sk-label input.sk-toggleable__control:checked~label.sk-toggleable__label {background-color: #d4ebff;}#sk-container-id-1 input.sk-hidden--visually {border: 0;clip: rect(1px 1px 1px 1px);clip: rect(1px, 1px, 1px, 1px);height: 1px;margin: -1px;overflow: hidden;padding: 0;position: absolute;width: 1px;}#sk-container-id-1 div.sk-estimator {font-family: monospace;background-color: #f0f8ff;border: 1px dotted black;border-radius: 0.25em;box-sizing: border-box;margin-bottom: 0.5em;}#sk-container-id-1 div.sk-estimator:hover {background-color: #d4ebff;}#sk-container-id-1 div.sk-parallel-item::after {content: \"\";width: 100%;border-bottom: 1px solid gray;flex-grow: 1;}#sk-container-id-1 div.sk-label:hover label.sk-toggleable__label {background-color: #d4ebff;}#sk-container-id-1 div.sk-serial::before {content: \"\";position: absolute;border-left: 1px solid gray;box-sizing: border-box;top: 0;bottom: 0;left: 50%;z-index: 0;}#sk-container-id-1 div.sk-serial {display: flex;flex-direction: column;align-items: center;background-color: white;padding-right: 0.2em;padding-left: 0.2em;position: relative;}#sk-container-id-1 div.sk-item {position: relative;z-index: 1;}#sk-container-id-1 div.sk-parallel {display: flex;align-items: stretch;justify-content: center;background-color: white;position: relative;}#sk-container-id-1 div.sk-item::before, #sk-container-id-1 div.sk-parallel-item::before {content: \"\";position: absolute;border-left: 1px solid gray;box-sizing: border-box;top: 0;bottom: 0;left: 50%;z-index: -1;}#sk-container-id-1 div.sk-parallel-item {display: flex;flex-direction: column;z-index: 1;position: relative;background-color: white;}#sk-container-id-1 div.sk-parallel-item:first-child::after {align-self: flex-end;width: 50%;}#sk-container-id-1 div.sk-parallel-item:last-child::after {align-self: flex-start;width: 50%;}#sk-container-id-1 div.sk-parallel-item:only-child::after {width: 0;}#sk-container-id-1 div.sk-dashed-wrapped {border: 1px dashed gray;margin: 0 0.4em 0.5em 0.4em;box-sizing: border-box;padding-bottom: 0.4em;background-color: white;}#sk-container-id-1 div.sk-label label {font-family: monospace;font-weight: bold;display: inline-block;line-height: 1.2em;}#sk-container-id-1 div.sk-label-container {text-align: center;}#sk-container-id-1 div.sk-container {/* jupyter's `normalize.less` sets `[hidden] { display: none; }` but bootstrap.min.css set `[hidden] { display: none !important; }` so we also need the `!important` here to be able to override the default hidden behavior on the sphinx rendered scikit-learn.org. See: https://github.com/scikit-learn/scikit-learn/issues/21755 */display: inline-block !important;position: relative;}#sk-container-id-1 div.sk-text-repr-fallback {display: none;}</style><div id=\"sk-container-id-1\" class=\"sk-top-container\"><div class=\"sk-text-repr-fallback\"><pre>LogisticRegression()</pre><b>In a Jupyter environment, please rerun this cell to show the HTML representation or trust the notebook. <br />On GitHub, the HTML representation is unable to render, please try loading this page with nbviewer.org.</b></div><div class=\"sk-container\" hidden><div class=\"sk-item\"><div class=\"sk-estimator sk-toggleable\"><input class=\"sk-toggleable__control sk-hidden--visually\" id=\"sk-estimator-id-1\" type=\"checkbox\" checked><label for=\"sk-estimator-id-1\" class=\"sk-toggleable__label sk-toggleable__label-arrow\">LogisticRegression</label><div class=\"sk-toggleable__content\"><pre>LogisticRegression()</pre></div></div></div></div></div>"
      ],
      "text/plain": [
       "LogisticRegression()"
      ]
     },
     "execution_count": 51,
     "metadata": {},
     "output_type": "execute_result"
    }
   ],
   "source": [
    "lr_model.fit(x_train,y_train)"
   ]
  },
  {
   "cell_type": "code",
   "execution_count": 53,
   "id": "b63ab550-3f08-4e48-b498-cd1b6127a871",
   "metadata": {},
   "outputs": [],
   "source": [
    "y_pred = lr_model.predict(x_test)"
   ]
  },
  {
   "cell_type": "code",
   "execution_count": 54,
   "id": "68a4d8a8-3333-4e44-b411-a9b967560e78",
   "metadata": {},
   "outputs": [
    {
     "data": {
      "text/plain": [
       "array([1, 1, 0, 1, 0, 1, 1, 0, 0, 0, 0, 0, 0, 0, 1], dtype=int64)"
      ]
     },
     "execution_count": 54,
     "metadata": {},
     "output_type": "execute_result"
    }
   ],
   "source": [
    "y_pred"
   ]
  },
  {
   "cell_type": "code",
   "execution_count": 56,
   "id": "0c999fbf-78f1-4b80-b7b3-a3af38fb1d15",
   "metadata": {},
   "outputs": [],
   "source": [
    "from sklearn.metrics import accuracy_score,r2_score"
   ]
  },
  {
   "cell_type": "code",
   "execution_count": 59,
   "id": "f6d4a5a0-65b8-432a-adb4-640ef43c0f23",
   "metadata": {},
   "outputs": [
    {
     "name": "stdout",
     "output_type": "stream",
     "text": [
      "accuracy score :  0.9333333333333333\n",
      "r2_score :  0.7000000000000001\n"
     ]
    }
   ],
   "source": [
    "print(\"accuracy score : \", accuracy_score(y_test,y_pred))\n",
    "print(\"r2_score : \",r2_score(y_test,y_pred))"
   ]
  },
  {
   "cell_type": "code",
   "execution_count": 61,
   "id": "15360144-4fbf-407c-8cbb-fe32126a6a9a",
   "metadata": {},
   "outputs": [],
   "source": [
    "from mlxtend.plotting import plot_decision_regions"
   ]
  },
  {
   "cell_type": "code",
   "execution_count": 63,
   "id": "e20765bd-0d84-40dd-909d-51222a330b24",
   "metadata": {},
   "outputs": [
    {
     "data": {
      "text/plain": [
       "<Axes: >"
      ]
     },
     "execution_count": 63,
     "metadata": {},
     "output_type": "execute_result"
    },
    {
     "data": {
      "image/png": "[encoded data removed]",
      "text/plain": [
       "<Figure size 640x480 with 1 Axes>"
      ]
     },
     "metadata": {},
     "output_type": "display_data"
    }
   ],
   "source": [
    "plot_decision_regions(x_train,y_train.values,clf=lr_model)"
   ]
  },
  {
   "cell_type": "code",
   "execution_count": null,
   "id": "b6561081-e206-4e7f-8252-197461aca42a",
   "metadata": {},
   "outputs": [],
   "source": []
  }
 ],
 "metadata": {
  "kernelspec": {
   "display_name": "Python 3 (ipykernel)",
   "language": "python",
   "name": "python3"
  },
  "language_info": {
   "codemirror_mode": {
    "name": "ipython",
    "version": 3
   },
   "file_extension": ".py",
   "mimetype": "text/x-python",
   "name": "python",
   "nbconvert_exporter": "python",
   "pygments_lexer": "ipython3",
   "version": "3.11.5"
  }
 },
 "nbformat": 4,
 "nbformat_minor": 5
}
